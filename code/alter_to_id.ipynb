{
 "cells": [
  {
   "cell_type": "code",
   "execution_count": 16,
   "metadata": {},
   "outputs": [],
   "source": [
    "import pandas as pd"
   ]
  },
  {
   "cell_type": "code",
   "execution_count": 19,
   "metadata": {
    "scrolled": true
   },
   "outputs": [],
   "source": [
    "adata = pd.read_csv('江门揽收数据.csv', encoding='gb18030', usecols=[6])\n",
    "bdata = pd.read_csv(\"coord/lanshou.csv\", encoding='gb18030')\n",
    "bdata['department'] = adata['V_CLCT_ORG_CODE']\n",
    "bdata.to_csv('coord/lanshou_.csv', encoding = 'gb18030', index=False)"
   ]
  },
  {
   "cell_type": "code",
   "execution_count": 30,
   "metadata": {},
   "outputs": [],
   "source": [
    "adata = pd.read_csv('toudi_21.csv', encoding='gb18030', usecols=[4])\n",
    "bdata = pd.read_csv(\"coord/toudi_21.csv\", encoding='gb18030')\n",
    "bdata['department'] = adata['投递机构']\n",
    "bdata.to_csv('coord/toudi_21_.csv', encoding = 'gb18030', index=False)"
   ]
  },
  {
   "cell_type": "code",
   "execution_count": 31,
   "metadata": {},
   "outputs": [],
   "source": [
    "adata = pd.read_csv('toudi_22.csv', encoding='gb18030', usecols=[4])\n",
    "bdata = pd.read_csv(\"coord/toudi_22.csv\", encoding='gb18030')\n",
    "bdata['department'] = adata['投递机构']\n",
    "bdata.to_csv('coord/toudi_22_.csv', encoding = 'gb18030', index=False)"
   ]
  },
  {
   "cell_type": "code",
   "execution_count": 32,
   "metadata": {},
   "outputs": [],
   "source": [
    "adata = pd.read_csv('toudi_206.csv', encoding='gb18030', usecols=[4])\n",
    "bdata = pd.read_csv(\"coord/toudi_206.csv\", encoding='gb18030')\n",
    "bdata['department'] = adata['投递机构']\n",
    "bdata.to_csv('coord/toudi_206_.csv', encoding = 'gb18030', index=False)"
   ]
  }
 ],
 "metadata": {
  "kernelspec": {
   "display_name": "Python 3",
   "language": "python",
   "name": "python3"
  },
  "language_info": {
   "codemirror_mode": {
    "name": "ipython",
    "version": 3
   },
   "file_extension": ".py",
   "mimetype": "text/x-python",
   "name": "python",
   "nbconvert_exporter": "python",
   "pygments_lexer": "ipython3",
   "version": "3.8.3"
  }
 },
 "nbformat": 4,
 "nbformat_minor": 4
}
