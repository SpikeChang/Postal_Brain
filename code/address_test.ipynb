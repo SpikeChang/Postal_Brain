{
 "cells": [
  {
   "cell_type": "code",
   "execution_count": 1,
   "metadata": {},
   "outputs": [],
   "source": [
    "import requests\n",
    "\n",
    "def get_location(address):\n",
    "    #最后一个字符串为api key\n",
    "    url = \"http://restapi.amap.com/v3/geocode/geo?output=json&address=\"+address+'&key='+'fa5e7c5cbc69bc1e16e95153a7785aba'\n",
    "    r = requests.get(url).json()\n",
    "    if r['status'] == '1':\n",
    "        if len(r['geocodes']) > 0:\n",
    "            return r['geocodes'][0]['location']"
   ]
  },
  {
   "cell_type": "code",
   "execution_count": 2,
   "metadata": {},
   "outputs": [
    {
     "name": "stdout",
     "output_type": "stream",
     "text": [
      "广东省经纬度 113.266530,23.132191\n"
     ]
    }
   ],
   "source": [
    "res = get_location(\"广东省\")\n",
    "print(\"广东省经纬度\", res)"
   ]
  },
  {
   "cell_type": "code",
   "execution_count": 5,
   "metadata": {},
   "outputs": [
    {
     "name": "stdout",
     "output_type": "stream",
     "text": [
      "广东省广州市经纬度 113.264434,23.129162\n"
     ]
    }
   ],
   "source": [
    "res = get_location(\"广东省广州市\")\n",
    "print(\"广东省广州市经纬度\", res)"
   ]
  },
  {
   "cell_type": "code",
   "execution_count": 4,
   "metadata": {},
   "outputs": [
    {
     "name": "stdout",
     "output_type": "stream",
     "text": [
      "广东省广州市番禺区经纬度 113.384129,22.937244\n"
     ]
    }
   ],
   "source": [
    "res = get_location(\"广东省广州市番禺区\")\n",
    "print(\"广东省广州市番禺区经纬度\", res)"
   ]
  }
 ],
 "metadata": {
  "kernelspec": {
   "display_name": "Python 3",
   "language": "python",
   "name": "python3"
  },
  "language_info": {
   "codemirror_mode": {
    "name": "ipython",
    "version": 3
   },
   "file_extension": ".py",
   "mimetype": "text/x-python",
   "name": "python",
   "nbconvert_exporter": "python",
   "pygments_lexer": "ipython3",
   "version": "3.8.3"
  }
 },
 "nbformat": 4,
 "nbformat_minor": 4
}
