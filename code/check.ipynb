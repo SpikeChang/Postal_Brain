{
 "cells": [
  {
   "cell_type": "code",
   "execution_count": 23,
   "metadata": {},
   "outputs": [],
   "source": [
    "import xlrd\n",
    "import numpy as np\n",
    "import pandas as pd"
   ]
  },
  {
   "cell_type": "code",
   "execution_count": 97,
   "metadata": {},
   "outputs": [],
   "source": [
    "#读取计提标准及揽投量.xls文件\n",
    "sheets = xlrd.open_workbook(\"江门补充资料/计提标准及揽投量.xls\", 'r')\n",
    "sheet = sheets.sheets()[0]\n",
    "nrows = sheet.nrows\n",
    "infos = []\n",
    "for row in range(2, nrows):\n",
    "    info = [sheet.row(row)[4].value, sheet.row(row)[6].value, sheet.row(row)[7].value]\n",
    "    infos.append(info)"
   ]
  },
  {
   "cell_type": "code",
   "execution_count": 58,
   "metadata": {},
   "outputs": [],
   "source": [
    "#读取揽投机构信息，机构名称有缩写有完整，有可能加个（支部），所以改用编号\n",
    "data_lanshou = pd.read_csv('江门揽收数据.csv', encoding='gb18030', usecols=[6])\n",
    "data_lanshou = np.array(data_lanshou)\n",
    "data_toudi21 = pd.read_csv('toudi_21.csv', encoding='gb18030', usecols=[4])\n",
    "data_toudi21 = np.array(data_toudi21)\n",
    "data_toudi22 = pd.read_csv('toudi_22.csv', encoding='gb18030', usecols=[4])\n",
    "data_toudi22 = np.array(data_toudi22)\n",
    "data_toudi206 = pd.read_csv('toudi_206.csv', encoding='gb18030', usecols=[4])\n",
    "data_toudi206 = np.array(data_toudi206)"
   ]
  },
  {
   "cell_type": "code",
   "execution_count": 70,
   "metadata": {},
   "outputs": [],
   "source": [
    "#统计各个机构的揽投数量\n",
    "checks = []\n",
    "\n",
    "for info in infos:\n",
    "    lanshou_counts = ((data_lanshou == info[0]).sum())\n",
    "    toudi_counts = ((data_toudi21 == info[0]).sum() + (data_toudi22 == info[0]).sum() + (data_toudi206 == info[0]).sum())\n",
    "\n",
    "    lanshou_check = 1 if lanshou_counts == info[1] else 0\n",
    "    toudi_check = 1 if lanshou_counts == info[2] else 0\n",
    "    \n",
    "    checks.append([int(info[0]), lanshou_counts, toudi_counts, lanshou_check, toudi_check])"
   ]
  },
  {
   "cell_type": "code",
   "execution_count": 123,
   "metadata": {},
   "outputs": [
    {
     "name": "stdout",
     "output_type": "stream",
     "text": [
      "[[52907504    16164    68384        0        0]\n",
      " [52908006    18804    75854        0        0]\n",
      " [52908504     3001    47779        0        0]\n",
      " [52909506     3819    67829        0        0]\n",
      " [52900009    16022    72390        0        0]\n",
      " [52900010     4795    56804        0        0]\n",
      " [52900057     3553    43925        0        0]\n",
      " [52903014     6558    37717        0        0]\n",
      " [52909003     7821    73803        0        0]\n",
      " [52910017     8816   153290        0        0]\n",
      " [52910019    14742    62452        0        0]\n",
      " [52914202      514    11072        0        0]\n",
      " [52910032      280    11727        0        0]\n",
      " [52910033      759    13763        0        0]\n",
      " [52910035     2188    14071        0        0]\n",
      " [52910036      290    15349        0        0]\n",
      " [52910037      157     8909        0        0]\n",
      " [52910038     1585    29891        0        0]\n",
      " [52910039      560    17503        0        0]\n",
      " [52910046     5868    18747        0        0]\n",
      " [52915302     1561    20760        0        0]\n",
      " [52915904      682    27832        0        0]\n",
      " [52926102      343    51948        0        0]\n",
      " [52920033       81     5209        0        0]\n",
      " [52920035       54     2878        0        0]\n",
      " [52920040       77     6993        0        0]\n",
      " [52920037      159    14893        0        0]\n",
      " [52920048      107     8009        0        0]\n",
      " [52920045       37     4341        0        0]\n",
      " [52920046       50     4798        0        0]\n",
      " [52920041      216    16593        0        0]\n",
      " [52920036      108     9830        0        0]\n",
      " [52920034      125     8286        0        0]\n",
      " [52920031       91     7867        0        0]\n",
      " [52920044      102    13276        0        0]\n",
      " [52920039      184    18320        0        0]\n",
      " [52920043      170     5765        0        0]\n",
      " [52920047      119    10241        0        0]\n",
      " [52920042      199    15699        0        0]\n",
      " [52920032      120    12292        0        0]\n",
      " [52920038      141    13108        0        0]\n",
      " [52930019     3974    50195        0        0]\n",
      " [52930023    22142   180318        0        0]\n",
      " [52930033       56     6773        0        0]\n",
      " [52930034       77     4586        0        0]\n",
      " [52930036       90     5180        0        0]\n",
      " [52930037       62     3776        0        0]\n",
      " [52930038       30     2125        0        0]\n",
      " [52930039       40     3431        0        0]\n",
      " [52930040      143     6496        0        0]\n",
      " [52930041      153    13211        0        0]\n",
      " [52930042      127     8672        0        0]\n",
      " [52930043       79     4524        0        0]\n",
      " [52930048       42     4008        0        0]\n",
      " [52930050      111     5553        0        0]\n",
      " [52940008     8127   116157        0        0]\n",
      " [52940011     2931     5224        0        0]\n",
      " [52940023      100     4004        0        0]\n",
      " [52940024       81     5612        0        0]\n",
      " [52940025      113    12608        0        0]\n",
      " [52940026       77     1779        0        0]\n",
      " [52940027       67     3807        0        0]\n",
      " [52940028      192    16612        0        0]\n",
      " [52940029       49     5507        0        0]\n",
      " [52940031      146     6642        0        0]\n",
      " [52940032       87     4645        0        0]\n",
      " [52940033       98     6133        0        0]\n",
      " [52946700    55159     3353        0        0]\n",
      " [52970010    23168    87897        0        0]\n",
      " [52970012     5119    28491        0        0]\n",
      " [52970021      189    18671        0        0]\n",
      " [52970023      123    14842        0        0]\n",
      " [52970024      170    17335        0        0]\n",
      " [52970025      196     8282        0        0]\n",
      " [52970026      191    18183        0        0]\n",
      " [52970027      115     9917        0        0]\n",
      " [52970028       49     3585        0        0]\n",
      " [52970029      172     9024        0        0]\n",
      " [52976900    37536     7628        0        0]]\n"
     ]
    }
   ],
   "source": [
    "checks = np.array(checks)\n",
    "print(checks)\n",
    "with open('check.csv', 'w', encoding='gb18030', newline='') as f:\n",
    "    writer = csv.writer(f)\n",
    "    writer.writerow(['机构代码', \"揽收量\", \"投递量\", \"揽收量一致否\", \"投递量一致否\"])\n",
    "    writer.writerows(checks)"
   ]
  },
  {
   "cell_type": "code",
   "execution_count": 74,
   "metadata": {},
   "outputs": [
    {
     "name": "stdout",
     "output_type": "stream",
     "text": [
      "[[-113564485     282403    1894983          0          0]]\n"
     ]
    }
   ],
   "source": [
    "#二，三列分别为揽收，投递总计数\n",
    "print(np.sum(checks, axis=0, keepdims=True))"
   ]
  },
  {
   "cell_type": "code",
   "execution_count": 118,
   "metadata": {},
   "outputs": [
    {
     "name": "stdout",
     "output_type": "stream",
     "text": [
      "52908503    668417\n",
      "52900004    269826\n",
      "52936900    144670\n",
      "52904006     91328\n",
      "52900007     84145\n",
      "             ...  \n",
      "52914901         4\n",
      "52908502         3\n",
      "52900061         3\n",
      "52925801         2\n",
      "52943101         1\n",
      "Length: 214, dtype: int64\n"
     ]
    }
   ],
   "source": [
    "data_lanshou_ = pd.Series(data_lanshou.flatten()).value_counts()\n",
    "print(data_lanshou_)"
   ]
  }
 ],
 "metadata": {
  "kernelspec": {
   "display_name": "Python 3",
   "language": "python",
   "name": "python3"
  },
  "language_info": {
   "codemirror_mode": {
    "name": "ipython",
    "version": 3
   },
   "file_extension": ".py",
   "mimetype": "text/x-python",
   "name": "python",
   "nbconvert_exporter": "python",
   "pygments_lexer": "ipython3",
   "version": "3.8.3"
  }
 },
 "nbformat": 4,
 "nbformat_minor": 4
}
