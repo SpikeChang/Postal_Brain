{
 "cells": [
  {
   "cell_type": "code",
   "execution_count": 1,
   "metadata": {},
   "outputs": [],
   "source": [
    "import numpy as np\n",
    "import pandas as pd"
   ]
  },
  {
   "cell_type": "code",
   "execution_count": 224,
   "metadata": {},
   "outputs": [],
   "source": [
    "#日期，业务种类，重量，揽投机构，道段(揽收只有业务员信息，没有道段故不收入)\n",
    "\n",
    "#读取揽收数据\n",
    "data_lanshou = pd.read_csv('江门揽收数据.csv', encoding='gb18030', usecols=[1,3,6,8])\n",
    "data_lanshou = data_lanshou[['D_CLCT_DATE','V_BUSI_TYPE', 'F_WEIGH_WEIGHT', 'V_CLCT_ORG_CODE']]#调整一下顺序\n",
    "data_lanshou['D_CLCT_DATE'] = pd.to_datetime(data_lanshou['D_CLCT_DATE'])\n",
    "#加入经纬度\n",
    "data_lanshou_ = pd.read_csv('coord/lanshou.csv', encoding='gb18030', usecols=[1,2])\n",
    "data_lanshou['lng'] = data_lanshou_['lng']\n",
    "data_lanshou['lat'] = data_lanshou_['lat']\n",
    "\n",
    "#读取投递数据1\n",
    "data_toudi21 = pd.read_csv('toudi_21.csv', encoding='gb18030', usecols=[0,2,3,4,7])\n",
    "data_toudi21['道段'] = data_toudi21['道段'].str.split(' ', expand=True)[0]\n",
    "data_toudi21['投递日期'] = pd.to_datetime(data_toudi21['投递日期'])\n",
    "#加入经纬度\n",
    "data_toudi21_  = pd.read_csv('coord/toudi_21.csv', encoding='gb18030', usecols=[1,2])\n",
    "data_toudi21['lng'] = data_toudi21_['lng']\n",
    "data_toudi21['lat'] = data_toudi21_['lat']\n",
    "\n",
    "#读取投递数据2\n",
    "data_toudi22 = pd.read_csv('toudi_21.csv', encoding='gb18030', usecols=[0,2,3,4,7])\n",
    "data_toudi22['道段'] = data_toudi22['道段'].str.split(' ', expand=True)[0]\n",
    "data_toudi22['投递日期'] = pd.to_datetime(data_toudi22['投递日期'])\n",
    "#加入经纬度\n",
    "data_toudi22_  = pd.read_csv('coord/toudi_21.csv', encoding='gb18030', usecols=[1,2])\n",
    "data_toudi22['lng'] = data_toudi22_['lng']\n",
    "data_toudi22['lat'] = data_toudi22_['lat']\n",
    "\n",
    "#读取投递数据3\n",
    "data_toudi206 = pd.read_csv('toudi_21.csv', encoding='gb18030', usecols=[0,2,3,4,7])\n",
    "data_toudi206['道段'] = data_toudi206['道段'].str.split(' ', expand=True)[0]\n",
    "data_toudi206['投递日期'] = pd.to_datetime(data_toudi206['投递日期'])\n",
    "#加入经纬度\n",
    "data_toudi206_  = pd.read_csv('coord/toudi_21.csv', encoding='gb18030', usecols=[1,2])\n",
    "data_toudi206['lng'] = data_toudi206_['lng']\n",
    "data_toudi206['lat'] = data_toudi206_['lat']"
   ]
  },
  {
   "cell_type": "code",
   "execution_count": 259,
   "metadata": {},
   "outputs": [],
   "source": [
    "#exclude为不需要的日期列表，下述代码将周末的数据排除\n",
    "exclude = [\"2020-08-01\",\"2020-08-02\",\"2020-08-08\",\"2020-08-09\",\"2020-08-15\",\"2020-08-16\",\"2020-08-22\",\"2020-08-23\",\"2020-08-29\",\"2020-08-30\"]\n",
    "\n",
    "bools = []\n",
    "for row in data_lanshou.values:\n",
    "    bools.append(str(row[0].date()) not in exclude)\n",
    "data_lanshou = data_lanshou.loc[bools]\n",
    "\n",
    "bools = []\n",
    "for row in data_toudi21.values:\n",
    "    bools.append(str(row[0].date()) not in exclude)\n",
    "data_toudi21 = data_toudi21.loc[bools]\n",
    "\n",
    "bools = []\n",
    "for row in data_toudi22.values:\n",
    "    bools.append(str(row[0].date()) not in exclude)\n",
    "data_toudi22 = data_toudi22.loc[bools]\n",
    "    \n",
    "bools = []\n",
    "for row in data_toudi206.values:\n",
    "    bools.append(str(row[0].date()) not in exclude)\n",
    "data_toudi206 = data_toudi206.loc[bools]"
   ]
  },
  {
   "cell_type": "code",
   "execution_count": 260,
   "metadata": {},
   "outputs": [],
   "source": [
    "#揽收默认的列属性不太一样，改成与投递一致\n",
    "new_cols = [\"投递日期\",\"业务种类\",\"重量\",\"投递机构\",\"lng\",\"lat\"]\n",
    "data_lanshou.columns = new_cols"
   ]
  },
  {
   "cell_type": "code",
   "execution_count": 286,
   "metadata": {},
   "outputs": [],
   "source": [
    "#按部门分开存储，放置于列表中\n",
    "lanshou = []\n",
    "toudi21 = []\n",
    "toudi22 = []\n",
    "toudi206 = []\n",
    "\n",
    "departments = pd.read_excel('江门补充资料/江门机构.xlsx', usecols=[3])\n",
    "for department in departments.values:\n",
    "    batch = data_lanshou.loc[data_lanshou['投递机构']==int(department)]\n",
    "    lanshou.append(batch)\n",
    "    batch = data_toudi21.loc[data_toudi21['投递机构']==int(department)]\n",
    "    toudi21.append(batch)\n",
    "    batch = data_toudi22.loc[data_toudi22['投递机构']==int(department)]\n",
    "    toudi22.append(batch)\n",
    "    batch = data_toudi206.loc[data_toudi206['投递机构']==int(department)]\n",
    "    toudi206.append(batch)"
   ]
  },
  {
   "cell_type": "code",
   "execution_count": 287,
   "metadata": {
    "scrolled": true
   },
   "outputs": [],
   "source": [
    "#揽收数据没有道段，故不划分道段\n",
    "\n",
    "#对toudi21的每个机构进行处理\n",
    "for department in toudi21:\n",
    "    department_temp = department.loc[department['lng'].isnull().values.tolist()] #不含经纬度的数据\n",
    "    department_done = department.drop(department_temp.index)\n",
    "    roads = department_temp['道段'].unique()\n",
    "    roads = roads[~pd.isnull(roads)]\n",
    "    #对某个机构中的每个道段进行处理\n",
    "    for road in roads:\n",
    "        data_road = department_done.loc[department_done['道段']==road]\n",
    "        maxy = data_road['lng'].max()\n",
    "        miny = data_road['lng'].min()\n",
    "        maxx = data_road['lat'].max()\n",
    "        minx = data_road['lat'].min()\n",
    "        temp_road = department_temp.loc[department_temp['道段']==road]\n",
    "        lng = np.random.random(len(temp_road)) * (maxy - miny) + miny\n",
    "        lat = np.random.random(len(temp_road)) * (maxx - minx) + minx\n",
    "        department_temp.loc[department_temp['道段']==road, 'lng'] = lng\n",
    "        department_temp.loc[department_temp['道段']==road, 'lat'] = lat\n",
    "    #对没有道段数据的记录，即nan值做特殊处理(取处理的最后一个道段的随机经纬度)\n",
    "    nan = department_temp.loc[department_temp['道段'].isnull().values.tolist()]\n",
    "    if len(nan) > 0:\n",
    "        lng = np.random.random(len(nan)) * (maxy - miny) + miny\n",
    "        lat = np.random.random(len(nan)) * (maxx - minx) + minx\n",
    "        department_temp.loc[nan.index, 'lng'] = lng\n",
    "        department_temp.loc[nan.index, 'lat'] = lat\n",
    "    \n",
    "    department.loc[department['lng'].isnull().values.tolist(), 'lng'] = department_temp['lng']\n",
    "    department.loc[department['lat'].isnull().values.tolist(), 'lat'] = department_temp['lat']"
   ]
  },
  {
   "cell_type": "code",
   "execution_count": 288,
   "metadata": {},
   "outputs": [],
   "source": [
    "#对toudi22的每个机构进行处理\n",
    "for department in toudi22:\n",
    "    department_temp = department.loc[department['lng'].isnull().values.tolist()] #不含经纬度的数据\n",
    "    department_done = department.drop(department_temp.index)\n",
    "    roads = department_temp['道段'].unique()\n",
    "    roads = roads[~pd.isnull(roads)]\n",
    "    #对某个机构中的每个道段进行处理\n",
    "    for road in roads:\n",
    "        data_road = department_done.loc[department_done['道段']==road]\n",
    "        maxy = data_road['lng'].max()\n",
    "        miny = data_road['lng'].min()\n",
    "        maxx = data_road['lat'].max()\n",
    "        minx = data_road['lat'].min()\n",
    "        temp_road = department_temp.loc[department_temp['道段']==road]\n",
    "        lng = np.random.random(len(temp_road)) * (maxy - miny) + miny\n",
    "        lat = np.random.random(len(temp_road)) * (maxx - minx) + minx\n",
    "        department_temp.loc[department_temp['道段']==road, 'lng'] = lng\n",
    "        department_temp.loc[department_temp['道段']==road, 'lat'] = lat\n",
    "    #对没有道段数据的记录，即nan值做特殊处理(取处理的最后一个道段的随机经纬度)\n",
    "    nan = department_temp.loc[department_temp['道段'].isnull().values.tolist()]\n",
    "    if len(nan) > 0:\n",
    "        lng = np.random.random(len(nan)) * (maxy - miny) + miny\n",
    "        lat = np.random.random(len(nan)) * (maxx - minx) + minx\n",
    "        department_temp.loc[nan.index, 'lng'] = lng\n",
    "        department_temp.loc[nan.index, 'lat'] = lat\n",
    "    \n",
    "    department.loc[department['lng'].isnull().values.tolist(), 'lng'] = department_temp['lng']\n",
    "    department.loc[department['lat'].isnull().values.tolist(), 'lat'] = department_temp['lat']"
   ]
  },
  {
   "cell_type": "code",
   "execution_count": 289,
   "metadata": {},
   "outputs": [],
   "source": [
    "#对toudi206的每个机构进行处理\n",
    "for department in toudi206:\n",
    "    department_temp = department.loc[department['lng'].isnull().values.tolist()] #不含经纬度的数据\n",
    "    department_done = department.drop(department_temp.index)\n",
    "    roads = department_temp['道段'].unique()\n",
    "    roads = roads[~pd.isnull(roads)]\n",
    "    #对某个机构中的每个道段进行处理\n",
    "    for road in roads:\n",
    "        data_road = department_done.loc[department_done['道段']==road]\n",
    "        maxy = data_road['lng'].max()\n",
    "        miny = data_road['lng'].min()\n",
    "        maxx = data_road['lat'].max()\n",
    "        minx = data_road['lat'].min()\n",
    "        temp_road = department_temp.loc[department_temp['道段']==road]\n",
    "        lng = np.random.random(len(temp_road)) * (maxy - miny) + miny\n",
    "        lat = np.random.random(len(temp_road)) * (maxx - minx) + minx\n",
    "        department_temp.loc[department_temp['道段']==road, 'lng'] = lng\n",
    "        department_temp.loc[department_temp['道段']==road, 'lat'] = lat\n",
    "    #对没有道段数据的记录，即nan值做特殊处理(取处理的最后一个道段的随机经纬度)\n",
    "    nan = department_temp.loc[department_temp['道段'].isnull().values.tolist()]\n",
    "    if len(nan) > 0:\n",
    "        lng = np.random.random(len(nan)) * (maxy - miny) + miny\n",
    "        lat = np.random.random(len(nan)) * (maxx - minx) + minx\n",
    "        department_temp.loc[nan.index, 'lng'] = lng\n",
    "        department_temp.loc[nan.index, 'lat'] = lat\n",
    "    \n",
    "    department.loc[department['lng'].isnull().values.tolist(), 'lng'] = department_temp['lng']\n",
    "    department.loc[department['lat'].isnull().values.tolist(), 'lat'] = department_temp['lat']"
   ]
  },
  {
   "cell_type": "code",
   "execution_count": 294,
   "metadata": {},
   "outputs": [],
   "source": [
    "for department in toudi21:\n",
    "    roads = department_temp['道段'].unique()\n",
    "    #对某个机构中的每个道段进行处理\n",
    "    for road in roads:\n",
    "        print(road)\n",
    "        data_road = department.loc[department['道段']==road]\n",
    "        maxy = data_road['lng'].max()\n",
    "        miny = data_road['lng'].min()\n",
    "        maxx = data_road['lat'].max()\n",
    "        minx = data_road['lat'].min()\n",
    "        print(maxy,miny,maxx,minx)"
   ]
  },
  {
   "cell_type": "code",
   "execution_count": 307,
   "metadata": {},
   "outputs": [
    {
     "name": "stdout",
     "output_type": "stream",
     "text": [
      "121.26944 102.264449 35.020459 18.701982\n"
     ]
    }
   ],
   "source": [
    "data_road = toudi21[0].loc[toudi21[0]['道段']==\"02\",:]\n",
    "maxy = data_road['lng'].max()\n",
    "miny = data_road['lng'].min()\n",
    "maxx = data_road['lat'].max()\n",
    "minx = data_road['lat'].min()\n",
    "print(maxy,miny,maxx,minx)"
   ]
  },
  {
   "cell_type": "code",
   "execution_count": 308,
   "metadata": {},
   "outputs": [
    {
     "data": {
      "text/html": [
       "<div>\n",
       "<style scoped>\n",
       "    .dataframe tbody tr th:only-of-type {\n",
       "        vertical-align: middle;\n",
       "    }\n",
       "\n",
       "    .dataframe tbody tr th {\n",
       "        vertical-align: top;\n",
       "    }\n",
       "\n",
       "    .dataframe thead th {\n",
       "        text-align: right;\n",
       "    }\n",
       "</style>\n",
       "<table border=\"1\" class=\"dataframe\">\n",
       "  <thead>\n",
       "    <tr style=\"text-align: right;\">\n",
       "      <th></th>\n",
       "      <th>投递日期</th>\n",
       "      <th>业务种类</th>\n",
       "      <th>重量</th>\n",
       "      <th>投递机构</th>\n",
       "      <th>道段</th>\n",
       "      <th>lng</th>\n",
       "      <th>lat</th>\n",
       "    </tr>\n",
       "  </thead>\n",
       "  <tbody>\n",
       "    <tr>\n",
       "      <th>375813</th>\n",
       "      <td>2020-08-12 16:56:56</td>\n",
       "      <td>法院专递</td>\n",
       "      <td>0.3</td>\n",
       "      <td>52900009</td>\n",
       "      <td>02</td>\n",
       "      <td>121.26944</td>\n",
       "      <td>31.247288</td>\n",
       "    </tr>\n",
       "  </tbody>\n",
       "</table>\n",
       "</div>"
      ],
      "text/plain": [
       "                      投递日期  业务种类   重量      投递机构  道段        lng        lat\n",
       "375813 2020-08-12 16:56:56  法院专递  0.3  52900009  02  121.26944  31.247288"
      ]
     },
     "execution_count": 308,
     "metadata": {},
     "output_type": "execute_result"
    }
   ],
   "source": [
    "toudi21[0].loc[toudi21[0]['lng'] == 121.26944]"
   ]
  }
 ],
 "metadata": {
  "kernelspec": {
   "display_name": "Python 3",
   "language": "python",
   "name": "python3"
  },
  "language_info": {
   "codemirror_mode": {
    "name": "ipython",
    "version": 3
   },
   "file_extension": ".py",
   "mimetype": "text/x-python",
   "name": "python",
   "nbconvert_exporter": "python",
   "pygments_lexer": "ipython3",
   "version": "3.8.3"
  }
 },
 "nbformat": 4,
 "nbformat_minor": 4
}
